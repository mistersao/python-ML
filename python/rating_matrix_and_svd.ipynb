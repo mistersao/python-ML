{
 "metadata": {
  "language_info": {
   "codemirror_mode": {
    "name": "ipython",
    "version": 3
   },
   "file_extension": ".py",
   "mimetype": "text/x-python",
   "name": "python",
   "nbconvert_exporter": "python",
   "pygments_lexer": "ipython3",
   "version": "3.8.3-final"
  },
  "orig_nbformat": 2,
  "kernelspec": {
   "name": "python3",
   "display_name": "Python 3"
  }
 },
 "nbformat": 4,
 "nbformat_minor": 2,
 "cells": [
  {
   "cell_type": "code",
   "execution_count": 1,
   "metadata": {},
   "outputs": [],
   "source": [
    "import os\n",
    "import numpy as np\n",
    "import pandas as pd\n",
    "import matplotlib.pyplot as plt\n",
    "from tqdm import tqdm_notebook\n",
    "\n",
    "%matplotlib inline\n",
    "\n",
    "plt.style.use('ggplot')\n",
    "plt.rcParams['figure.figsize'] = (12,6)"
   ]
  },
  {
   "cell_type": "code",
   "execution_count": 9,
   "metadata": {},
   "outputs": [],
   "source": [
    "filepath = \"\\user_ratedmovies.dat\"\n",
    "df_rates = pd.read_csv(filepath, sep ='\\t')"
   ]
  },
  {
   "cell_type": "code",
   "execution_count": 4,
   "metadata": {},
   "outputs": [],
   "source": [
    "filepath1 = \"\\movies.dat\"\n",
    "df_movies = pd.read_csv(filepath1, sep ='\\t', encoding='iso-8859-1')"
   ]
  },
  {
   "cell_type": "code",
   "execution_count": 10,
   "metadata": {},
   "outputs": [
    {
     "output_type": "execute_result",
     "data": {
      "text/plain": [
       "   userID  movieID  rating  date_day  date_month  date_year  date_hour  \\\n",
       "0      75        3     1.0        29          10       2006         23   \n",
       "1      75       32     4.5        29          10       2006         23   \n",
       "2      75      110     4.0        29          10       2006         23   \n",
       "3      75      160     2.0        29          10       2006         23   \n",
       "4      75      163     4.0        29          10       2006         23   \n",
       "\n",
       "   date_minute  date_second  \n",
       "0           17           16  \n",
       "1           23           44  \n",
       "2           30            8  \n",
       "3           16           52  \n",
       "4           29           30  "
      ],
      "text/html": "<div>\n<style scoped>\n    .dataframe tbody tr th:only-of-type {\n        vertical-align: middle;\n    }\n\n    .dataframe tbody tr th {\n        vertical-align: top;\n    }\n\n    .dataframe thead th {\n        text-align: right;\n    }\n</style>\n<table border=\"1\" class=\"dataframe\">\n  <thead>\n    <tr style=\"text-align: right;\">\n      <th></th>\n      <th>userID</th>\n      <th>movieID</th>\n      <th>rating</th>\n      <th>date_day</th>\n      <th>date_month</th>\n      <th>date_year</th>\n      <th>date_hour</th>\n      <th>date_minute</th>\n      <th>date_second</th>\n    </tr>\n  </thead>\n  <tbody>\n    <tr>\n      <th>0</th>\n      <td>75</td>\n      <td>3</td>\n      <td>1.0</td>\n      <td>29</td>\n      <td>10</td>\n      <td>2006</td>\n      <td>23</td>\n      <td>17</td>\n      <td>16</td>\n    </tr>\n    <tr>\n      <th>1</th>\n      <td>75</td>\n      <td>32</td>\n      <td>4.5</td>\n      <td>29</td>\n      <td>10</td>\n      <td>2006</td>\n      <td>23</td>\n      <td>23</td>\n      <td>44</td>\n    </tr>\n    <tr>\n      <th>2</th>\n      <td>75</td>\n      <td>110</td>\n      <td>4.0</td>\n      <td>29</td>\n      <td>10</td>\n      <td>2006</td>\n      <td>23</td>\n      <td>30</td>\n      <td>8</td>\n    </tr>\n    <tr>\n      <th>3</th>\n      <td>75</td>\n      <td>160</td>\n      <td>2.0</td>\n      <td>29</td>\n      <td>10</td>\n      <td>2006</td>\n      <td>23</td>\n      <td>16</td>\n      <td>52</td>\n    </tr>\n    <tr>\n      <th>4</th>\n      <td>75</td>\n      <td>163</td>\n      <td>4.0</td>\n      <td>29</td>\n      <td>10</td>\n      <td>2006</td>\n      <td>23</td>\n      <td>29</td>\n      <td>30</td>\n    </tr>\n  </tbody>\n</table>\n</div>"
     },
     "metadata": {},
     "execution_count": 10
    }
   ],
   "source": [
    "df_rates.head()"
   ]
  },
  {
   "cell_type": "code",
   "execution_count": 11,
   "metadata": {},
   "outputs": [
    {
     "output_type": "execute_result",
     "data": {
      "text/plain": [
       "   id                        title  imdbID  \\\n",
       "0   1                    Toy story  114709   \n",
       "1   2                      Jumanji  113497   \n",
       "2   3               Grumpy Old Men  107050   \n",
       "3   4            Waiting to Exhale  114885   \n",
       "4   5  Father of the Bride Part II  113041   \n",
       "\n",
       "                                        spanishTitle  \\\n",
       "0                               Toy story (juguetes)   \n",
       "1                                            Jumanji   \n",
       "2                                Dos viejos gruñones   \n",
       "3                               Esperando un respiro   \n",
       "4  Vuelve el padre de la novia (Ahora también abu...   \n",
       "\n",
       "                                      imdbPictureURL  year  \\\n",
       "0  http://ia.media-imdb.com/images/M/MV5BMTMwNDU0...  1995   \n",
       "1  http://ia.media-imdb.com/images/M/MV5BMzM5NjE1...  1995   \n",
       "2  http://ia.media-imdb.com/images/M/MV5BMTI5MTgy...  1993   \n",
       "3  http://ia.media-imdb.com/images/M/MV5BMTczMTMy...  1995   \n",
       "4  http://ia.media-imdb.com/images/M/MV5BMTg1NDc2...  1995   \n",
       "\n",
       "                          rtID rtAllCriticsRating rtAllCriticsNumReviews  \\\n",
       "0                    toy_story                  9                     73   \n",
       "1              1068044-jumanji                5.6                     28   \n",
       "2               grumpy_old_men                5.9                     36   \n",
       "3            waiting_to_exhale                5.6                     25   \n",
       "4  father_of_the_bride_part_ii                5.3                     19   \n",
       "\n",
       "  rtAllCriticsNumFresh  ... rtAllCriticsScore rtTopCriticsRating  \\\n",
       "0                   73  ...               100                8.5   \n",
       "1                   13  ...                46                5.8   \n",
       "2                   24  ...                66                  7   \n",
       "3                   14  ...                56                5.5   \n",
       "4                    9  ...                47                5.4   \n",
       "\n",
       "  rtTopCriticsNumReviews rtTopCriticsNumFresh rtTopCriticsNumRotten  \\\n",
       "0                     17                   17                     0   \n",
       "1                      5                    2                     3   \n",
       "2                      6                    5                     1   \n",
       "3                     11                    5                     6   \n",
       "4                      5                    1                     4   \n",
       "\n",
       "  rtTopCriticsScore rtAudienceRating rtAudienceNumRatings rtAudienceScore  \\\n",
       "0               100              3.7               102338              81   \n",
       "1                40              3.2                44587              61   \n",
       "2                83              3.2                10489              66   \n",
       "3                45              3.3                 5666              79   \n",
       "4                20                3                13761              64   \n",
       "\n",
       "                                        rtPictureURL  \n",
       "0  http://content7.flixster.com/movie/10/93/63/10...  \n",
       "1  http://content8.flixster.com/movie/56/79/73/56...  \n",
       "2  http://content6.flixster.com/movie/25/60/25602...  \n",
       "3  http://content9.flixster.com/movie/10/94/17/10...  \n",
       "4  http://content8.flixster.com/movie/25/54/25542...  \n",
       "\n",
       "[5 rows x 21 columns]"
      ],
      "text/html": "<div>\n<style scoped>\n    .dataframe tbody tr th:only-of-type {\n        vertical-align: middle;\n    }\n\n    .dataframe tbody tr th {\n        vertical-align: top;\n    }\n\n    .dataframe thead th {\n        text-align: right;\n    }\n</style>\n<table border=\"1\" class=\"dataframe\">\n  <thead>\n    <tr style=\"text-align: right;\">\n      <th></th>\n      <th>id</th>\n      <th>title</th>\n      <th>imdbID</th>\n      <th>spanishTitle</th>\n      <th>imdbPictureURL</th>\n      <th>year</th>\n      <th>rtID</th>\n      <th>rtAllCriticsRating</th>\n      <th>rtAllCriticsNumReviews</th>\n      <th>rtAllCriticsNumFresh</th>\n      <th>...</th>\n      <th>rtAllCriticsScore</th>\n      <th>rtTopCriticsRating</th>\n      <th>rtTopCriticsNumReviews</th>\n      <th>rtTopCriticsNumFresh</th>\n      <th>rtTopCriticsNumRotten</th>\n      <th>rtTopCriticsScore</th>\n      <th>rtAudienceRating</th>\n      <th>rtAudienceNumRatings</th>\n      <th>rtAudienceScore</th>\n      <th>rtPictureURL</th>\n    </tr>\n  </thead>\n  <tbody>\n    <tr>\n      <th>0</th>\n      <td>1</td>\n      <td>Toy story</td>\n      <td>114709</td>\n      <td>Toy story (juguetes)</td>\n      <td>http://ia.media-imdb.com/images/M/MV5BMTMwNDU0...</td>\n      <td>1995</td>\n      <td>toy_story</td>\n      <td>9</td>\n      <td>73</td>\n      <td>73</td>\n      <td>...</td>\n      <td>100</td>\n      <td>8.5</td>\n      <td>17</td>\n      <td>17</td>\n      <td>0</td>\n      <td>100</td>\n      <td>3.7</td>\n      <td>102338</td>\n      <td>81</td>\n      <td>http://content7.flixster.com/movie/10/93/63/10...</td>\n    </tr>\n    <tr>\n      <th>1</th>\n      <td>2</td>\n      <td>Jumanji</td>\n      <td>113497</td>\n      <td>Jumanji</td>\n      <td>http://ia.media-imdb.com/images/M/MV5BMzM5NjE1...</td>\n      <td>1995</td>\n      <td>1068044-jumanji</td>\n      <td>5.6</td>\n      <td>28</td>\n      <td>13</td>\n      <td>...</td>\n      <td>46</td>\n      <td>5.8</td>\n      <td>5</td>\n      <td>2</td>\n      <td>3</td>\n      <td>40</td>\n      <td>3.2</td>\n      <td>44587</td>\n      <td>61</td>\n      <td>http://content8.flixster.com/movie/56/79/73/56...</td>\n    </tr>\n    <tr>\n      <th>2</th>\n      <td>3</td>\n      <td>Grumpy Old Men</td>\n      <td>107050</td>\n      <td>Dos viejos gruñones</td>\n      <td>http://ia.media-imdb.com/images/M/MV5BMTI5MTgy...</td>\n      <td>1993</td>\n      <td>grumpy_old_men</td>\n      <td>5.9</td>\n      <td>36</td>\n      <td>24</td>\n      <td>...</td>\n      <td>66</td>\n      <td>7</td>\n      <td>6</td>\n      <td>5</td>\n      <td>1</td>\n      <td>83</td>\n      <td>3.2</td>\n      <td>10489</td>\n      <td>66</td>\n      <td>http://content6.flixster.com/movie/25/60/25602...</td>\n    </tr>\n    <tr>\n      <th>3</th>\n      <td>4</td>\n      <td>Waiting to Exhale</td>\n      <td>114885</td>\n      <td>Esperando un respiro</td>\n      <td>http://ia.media-imdb.com/images/M/MV5BMTczMTMy...</td>\n      <td>1995</td>\n      <td>waiting_to_exhale</td>\n      <td>5.6</td>\n      <td>25</td>\n      <td>14</td>\n      <td>...</td>\n      <td>56</td>\n      <td>5.5</td>\n      <td>11</td>\n      <td>5</td>\n      <td>6</td>\n      <td>45</td>\n      <td>3.3</td>\n      <td>5666</td>\n      <td>79</td>\n      <td>http://content9.flixster.com/movie/10/94/17/10...</td>\n    </tr>\n    <tr>\n      <th>4</th>\n      <td>5</td>\n      <td>Father of the Bride Part II</td>\n      <td>113041</td>\n      <td>Vuelve el padre de la novia (Ahora también abu...</td>\n      <td>http://ia.media-imdb.com/images/M/MV5BMTg1NDc2...</td>\n      <td>1995</td>\n      <td>father_of_the_bride_part_ii</td>\n      <td>5.3</td>\n      <td>19</td>\n      <td>9</td>\n      <td>...</td>\n      <td>47</td>\n      <td>5.4</td>\n      <td>5</td>\n      <td>1</td>\n      <td>4</td>\n      <td>20</td>\n      <td>3</td>\n      <td>13761</td>\n      <td>64</td>\n      <td>http://content8.flixster.com/movie/25/54/25542...</td>\n    </tr>\n  </tbody>\n</table>\n<p>5 rows × 21 columns</p>\n</div>"
     },
     "metadata": {},
     "execution_count": 11
    }
   ],
   "source": [
    "df_movies.head()"
   ]
  },
  {
   "cell_type": "code",
   "execution_count": 12,
   "metadata": {},
   "outputs": [],
   "source": [
    "from sklearn.preprocessing import LabelEncoder"
   ]
  },
  {
   "cell_type": "code",
   "execution_count": 13,
   "metadata": {},
   "outputs": [
    {
     "output_type": "execute_result",
     "data": {
      "text/plain": [
       "(75, 71534)"
      ]
     },
     "metadata": {},
     "execution_count": 13
    }
   ],
   "source": [
    "df_rates.userID.min(), df_rates.userID.max()"
   ]
  },
  {
   "cell_type": "code",
   "execution_count": 15,
   "metadata": {},
   "outputs": [
    {
     "output_type": "execute_result",
     "data": {
      "text/plain": [
       "2113"
      ]
     },
     "metadata": {},
     "execution_count": 15
    }
   ],
   "source": [
    "df_rates.userID.nunique()"
   ]
  },
  {
   "cell_type": "code",
   "execution_count": 18,
   "metadata": {},
   "outputs": [],
   "source": [
    "enc_user = LabelEncoder()\n",
    "enc_mov = LabelEncoder()"
   ]
  },
  {
   "cell_type": "code",
   "execution_count": 19,
   "metadata": {},
   "outputs": [],
   "source": [
    "enc_user = enc_user.fit(df_rates.userID.values)\n",
    "enc_mov = enc_mov.fit(df_rates.movieID.values)"
   ]
  },
  {
   "cell_type": "code",
   "execution_count": 20,
   "metadata": {},
   "outputs": [],
   "source": [
    "idx = df_movies.loc[:,'id'].isin(df_rates.movieID)\n",
    "df_movies = df_movies.loc[idx]"
   ]
  },
  {
   "cell_type": "code",
   "execution_count": 21,
   "metadata": {},
   "outputs": [],
   "source": [
    "df_rates.loc[:, 'userID'] = enc_user.transform(df_rates.loc[:, 'userID'].values)\n",
    "df_rates.loc[:, 'movieID'] = enc_mov.transform(df_rates.loc[:, 'movieID'].values)\n",
    "df_movies.loc[:, 'id'] = enc_mov.transform(df_movies.loc[:, 'id'].values)"
   ]
  },
  {
   "cell_type": "code",
   "execution_count": 22,
   "metadata": {},
   "outputs": [
    {
     "output_type": "execute_result",
     "data": {
      "text/plain": [
       "   userID  movieID  rating  date_day  date_month  date_year  date_hour  \\\n",
       "0       0        2     1.0        29          10       2006         23   \n",
       "1       0       31     4.5        29          10       2006         23   \n",
       "2       0      105     4.0        29          10       2006         23   \n",
       "3       0      151     2.0        29          10       2006         23   \n",
       "4       0      154     4.0        29          10       2006         23   \n",
       "\n",
       "   date_minute  date_second  \n",
       "0           17           16  \n",
       "1           23           44  \n",
       "2           30            8  \n",
       "3           16           52  \n",
       "4           29           30  "
      ],
      "text/html": "<div>\n<style scoped>\n    .dataframe tbody tr th:only-of-type {\n        vertical-align: middle;\n    }\n\n    .dataframe tbody tr th {\n        vertical-align: top;\n    }\n\n    .dataframe thead th {\n        text-align: right;\n    }\n</style>\n<table border=\"1\" class=\"dataframe\">\n  <thead>\n    <tr style=\"text-align: right;\">\n      <th></th>\n      <th>userID</th>\n      <th>movieID</th>\n      <th>rating</th>\n      <th>date_day</th>\n      <th>date_month</th>\n      <th>date_year</th>\n      <th>date_hour</th>\n      <th>date_minute</th>\n      <th>date_second</th>\n    </tr>\n  </thead>\n  <tbody>\n    <tr>\n      <th>0</th>\n      <td>0</td>\n      <td>2</td>\n      <td>1.0</td>\n      <td>29</td>\n      <td>10</td>\n      <td>2006</td>\n      <td>23</td>\n      <td>17</td>\n      <td>16</td>\n    </tr>\n    <tr>\n      <th>1</th>\n      <td>0</td>\n      <td>31</td>\n      <td>4.5</td>\n      <td>29</td>\n      <td>10</td>\n      <td>2006</td>\n      <td>23</td>\n      <td>23</td>\n      <td>44</td>\n    </tr>\n    <tr>\n      <th>2</th>\n      <td>0</td>\n      <td>105</td>\n      <td>4.0</td>\n      <td>29</td>\n      <td>10</td>\n      <td>2006</td>\n      <td>23</td>\n      <td>30</td>\n      <td>8</td>\n    </tr>\n    <tr>\n      <th>3</th>\n      <td>0</td>\n      <td>151</td>\n      <td>2.0</td>\n      <td>29</td>\n      <td>10</td>\n      <td>2006</td>\n      <td>23</td>\n      <td>16</td>\n      <td>52</td>\n    </tr>\n    <tr>\n      <th>4</th>\n      <td>0</td>\n      <td>154</td>\n      <td>4.0</td>\n      <td>29</td>\n      <td>10</td>\n      <td>2006</td>\n      <td>23</td>\n      <td>29</td>\n      <td>30</td>\n    </tr>\n  </tbody>\n</table>\n</div>"
     },
     "metadata": {},
     "execution_count": 22
    }
   ],
   "source": [
    "df_rates.head()"
   ]
  },
  {
   "cell_type": "code",
   "execution_count": 23,
   "metadata": {},
   "outputs": [],
   "source": [
    "#Matrix"
   ]
  },
  {
   "cell_type": "code",
   "execution_count": 24,
   "metadata": {},
   "outputs": [],
   "source": [
    "from scipy.sparse import coo_matrix, csr_matrix"
   ]
  },
  {
   "cell_type": "code",
   "execution_count": 26,
   "metadata": {},
   "outputs": [],
   "source": [
    "R = coo_matrix((df_rates.rating.values,(df_rates.userID.values,df_rates.movieID.values)))"
   ]
  },
  {
   "cell_type": "code",
   "execution_count": 27,
   "metadata": {},
   "outputs": [
    {
     "output_type": "execute_result",
     "data": {
      "text/plain": [
       "<2113x10109 sparse matrix of type '<class 'numpy.float64'>'\n",
       "\twith 855598 stored elements in COOrdinate format>"
      ]
     },
     "metadata": {},
     "execution_count": 27
    }
   ],
   "source": [
    "R"
   ]
  },
  {
   "cell_type": "code",
   "execution_count": 28,
   "metadata": {},
   "outputs": [],
   "source": [
    "#SVD"
   ]
  },
  {
   "cell_type": "code",
   "execution_count": 29,
   "metadata": {},
   "outputs": [],
   "source": [
    "from scipy.sparse.linalg import svds"
   ]
  },
  {
   "cell_type": "code",
   "execution_count": 30,
   "metadata": {},
   "outputs": [],
   "source": [
    "u, s , vt = svds(R, k =6)"
   ]
  },
  {
   "cell_type": "code",
   "execution_count": 31,
   "metadata": {},
   "outputs": [
    {
     "output_type": "execute_result",
     "data": {
      "text/plain": [
       "(2113, 6)"
      ]
     },
     "metadata": {},
     "execution_count": 31
    }
   ],
   "source": [
    "u.shape"
   ]
  },
  {
   "cell_type": "code",
   "execution_count": 32,
   "metadata": {},
   "outputs": [
    {
     "output_type": "execute_result",
     "data": {
      "text/plain": [
       "(6,)"
      ]
     },
     "metadata": {},
     "execution_count": 32
    }
   ],
   "source": [
    "s.shape"
   ]
  },
  {
   "cell_type": "code",
   "execution_count": 33,
   "metadata": {},
   "outputs": [
    {
     "output_type": "execute_result",
     "data": {
      "text/plain": [
       "(6, 10109)"
      ]
     },
     "metadata": {},
     "execution_count": 33
    }
   ],
   "source": [
    "vt.shape"
   ]
  },
  {
   "cell_type": "code",
   "execution_count": 34,
   "metadata": {},
   "outputs": [],
   "source": [
    "from sklearn.neighbors import NearestNeighbors"
   ]
  },
  {
   "cell_type": "code",
   "execution_count": 35,
   "metadata": {},
   "outputs": [],
   "source": [
    "nn = NearestNeighbors(n_neighbors=10)"
   ]
  },
  {
   "cell_type": "code",
   "execution_count": 36,
   "metadata": {},
   "outputs": [],
   "source": [
    "v = vt.T"
   ]
  },
  {
   "cell_type": "code",
   "execution_count": 38,
   "metadata": {},
   "outputs": [
    {
     "output_type": "execute_result",
     "data": {
      "text/plain": [
       "NearestNeighbors(n_neighbors=10)"
      ]
     },
     "metadata": {},
     "execution_count": 38
    }
   ],
   "source": [
    "nn.fit(v)"
   ]
  },
  {
   "cell_type": "code",
   "execution_count": 41,
   "metadata": {},
   "outputs": [],
   "source": [
    "_, ind = nn.kneighbors(v, n_neighbors=10)"
   ]
  },
  {
   "cell_type": "code",
   "execution_count": 42,
   "metadata": {},
   "outputs": [
    {
     "output_type": "execute_result",
     "data": {
      "text/plain": [
       "array([[   0, 4550, 7871, 5976, 3983, 6128,  351,  565, 1149, 2671],\n",
       "       [   1, 1337, 3662, 1839,  501, 2383,  101, 8920,  144, 5107],\n",
       "       [   2,  266,  414,    4, 7875, 4291, 4345, 6884,  505, 3484],\n",
       "       [   3, 5810, 5614, 4409, 1459, 6732, 3409, 3574, 3147, 3551],\n",
       "       [   4,  241,  266, 7875,    2, 6335,  505, 6514, 5564, 2899],\n",
       "       [   5, 3940,   15,  413,  991, 1323, 1094, 4670, 4441, 2052],\n",
       "       [   6,  225, 3534, 2272,  271, 3745, 1150, 2989, 2897, 6154],\n",
       "       [   7,  583, 4751, 6155, 3675, 1328,   12, 4414,  160, 1821],\n",
       "       [   8, 3942, 1296, 3582, 5828, 1440, 5795, 3903, 5304,  803],\n",
       "       [   9,  198,  304, 1797,   92, 3321,  144,  423, 5027, 1796]],\n",
       "      dtype=int64)"
      ]
     },
     "metadata": {},
     "execution_count": 42
    }
   ],
   "source": [
    "ind[:10]"
   ]
  },
  {
   "cell_type": "code",
   "execution_count": 43,
   "metadata": {},
   "outputs": [],
   "source": [
    "movie_titles = df_movies.sort_values('id').loc[:,'title'].values"
   ]
  },
  {
   "cell_type": "code",
   "execution_count": 45,
   "metadata": {},
   "outputs": [],
   "source": [
    "cols = ['movie'] + ['nn_{}'.format(i) for i in range(1,10)]"
   ]
  },
  {
   "cell_type": "code",
   "execution_count": 47,
   "metadata": {},
   "outputs": [],
   "source": [
    "df_ind_nn = pd.DataFrame(movie_titles[ind], columns = cols)"
   ]
  },
  {
   "cell_type": "code",
   "execution_count": 49,
   "metadata": {},
   "outputs": [],
   "source": [
    "idx = df_ind_nn.movie.str.contains('Terminator')"
   ]
  },
  {
   "cell_type": "code",
   "execution_count": 51,
   "metadata": {},
   "outputs": [
    {
     "output_type": "execute_result",
     "data": {
      "text/plain": [
       "                                   movie                        nn_1  \\\n",
       "566           Terminator 2: Judgment Day        Terminator Salvation   \n",
       "1119                Terminator Salvation  Terminator 2: Judgment Day   \n",
       "6126  Terminator 3: Rise of the Machines                    Bad Boys   \n",
       "\n",
       "           nn_2            nn_3                     nn_4  \\\n",
       "566    Die Hard           Alien                   Aliens   \n",
       "1119   Die Hard          Aliens             Total Recall   \n",
       "6126  Desperado  Demolition Man  AVP: Alien vs. Predator   \n",
       "\n",
       "                                    nn_5              nn_6  \\\n",
       "566                               Batman      Total Recall   \n",
       "1119                               Alien            Batman   \n",
       "6126  Naked Gun 33 1/3: The Final Insult  Last Action Hero   \n",
       "\n",
       "                                    nn_7                        nn_8  \\\n",
       "566   Indiana Jones and the Last Crusade     Mission: Impossible III   \n",
       "1119                           True Lies  Die Hard: With a Vengeance   \n",
       "6126                         Judge Dredd       Beverly Hills Cop III   \n",
       "\n",
       "                                    nn_9  \n",
       "566                            True Lies  \n",
       "1119  Indiana Jones and the Last Crusade  \n",
       "6126                Hot Shots! Part Deux  "
      ],
      "text/html": "<div>\n<style scoped>\n    .dataframe tbody tr th:only-of-type {\n        vertical-align: middle;\n    }\n\n    .dataframe tbody tr th {\n        vertical-align: top;\n    }\n\n    .dataframe thead th {\n        text-align: right;\n    }\n</style>\n<table border=\"1\" class=\"dataframe\">\n  <thead>\n    <tr style=\"text-align: right;\">\n      <th></th>\n      <th>movie</th>\n      <th>nn_1</th>\n      <th>nn_2</th>\n      <th>nn_3</th>\n      <th>nn_4</th>\n      <th>nn_5</th>\n      <th>nn_6</th>\n      <th>nn_7</th>\n      <th>nn_8</th>\n      <th>nn_9</th>\n    </tr>\n  </thead>\n  <tbody>\n    <tr>\n      <th>566</th>\n      <td>Terminator 2: Judgment Day</td>\n      <td>Terminator Salvation</td>\n      <td>Die Hard</td>\n      <td>Alien</td>\n      <td>Aliens</td>\n      <td>Batman</td>\n      <td>Total Recall</td>\n      <td>Indiana Jones and the Last Crusade</td>\n      <td>Mission: Impossible III</td>\n      <td>True Lies</td>\n    </tr>\n    <tr>\n      <th>1119</th>\n      <td>Terminator Salvation</td>\n      <td>Terminator 2: Judgment Day</td>\n      <td>Die Hard</td>\n      <td>Aliens</td>\n      <td>Total Recall</td>\n      <td>Alien</td>\n      <td>Batman</td>\n      <td>True Lies</td>\n      <td>Die Hard: With a Vengeance</td>\n      <td>Indiana Jones and the Last Crusade</td>\n    </tr>\n    <tr>\n      <th>6126</th>\n      <td>Terminator 3: Rise of the Machines</td>\n      <td>Bad Boys</td>\n      <td>Desperado</td>\n      <td>Demolition Man</td>\n      <td>AVP: Alien vs. Predator</td>\n      <td>Naked Gun 33 1/3: The Final Insult</td>\n      <td>Last Action Hero</td>\n      <td>Judge Dredd</td>\n      <td>Beverly Hills Cop III</td>\n      <td>Hot Shots! Part Deux</td>\n    </tr>\n  </tbody>\n</table>\n</div>"
     },
     "metadata": {},
     "execution_count": 51
    }
   ],
   "source": [
    "df_ind_nn.loc[idx].head()"
   ]
  },
  {
   "cell_type": "code",
   "execution_count": 52,
   "metadata": {},
   "outputs": [],
   "source": [
    "#user similarity"
   ]
  },
  {
   "cell_type": "code",
   "execution_count": 53,
   "metadata": {},
   "outputs": [],
   "source": [
    "from sklearn.metrics.pairwise import cosine_similarity as cosine_similarity"
   ]
  },
  {
   "cell_type": "code",
   "execution_count": 55,
   "metadata": {},
   "outputs": [],
   "source": [
    "D = cosine_similarity(R)"
   ]
  },
  {
   "cell_type": "code",
   "execution_count": 56,
   "metadata": {},
   "outputs": [
    {
     "output_type": "execute_result",
     "data": {
      "text/plain": [
       "(2113, 2113)"
      ]
     },
     "metadata": {},
     "execution_count": 56
    }
   ],
   "source": [
    "D.shape"
   ]
  },
  {
   "cell_type": "code",
   "execution_count": 54,
   "metadata": {},
   "outputs": [],
   "source": [
    "from scipy.spatial.distance import cosine\n",
    "from scipy.spatial.distance import pdist\n",
    "from scipy.spatial.distance import squareform\n",
    "from sklearn.metrics import pairwise_distances"
   ]
  },
  {
   "cell_type": "code",
   "execution_count": 57,
   "metadata": {},
   "outputs": [],
   "source": [
    "def similarity(u,v):\n",
    "    idx = (u !=0) & (v!=0)\n",
    "    if np.any(idx):\n",
    "        sim = -cosine(u[idx], v[idx])+1\n",
    "        return sim\n",
    "    else:\n",
    "        return 0"
   ]
  },
  {
   "cell_type": "code",
   "execution_count": 59,
   "metadata": {},
   "outputs": [],
   "source": [
    "d = pdist(R.toarray(), metric=similarity)"
   ]
  },
  {
   "cell_type": "code",
   "execution_count": 60,
   "metadata": {},
   "outputs": [
    {
     "output_type": "execute_result",
     "data": {
      "text/plain": [
       "(2231328,)"
      ]
     },
     "metadata": {},
     "execution_count": 60
    }
   ],
   "source": [
    "d.shape"
   ]
  },
  {
   "cell_type": "code",
   "execution_count": 61,
   "metadata": {},
   "outputs": [],
   "source": [
    "D = squareform(d)"
   ]
  },
  {
   "cell_type": "code",
   "execution_count": 62,
   "metadata": {},
   "outputs": [
    {
     "output_type": "execute_result",
     "data": {
      "text/plain": [
       "(2113, 2113)"
      ]
     },
     "metadata": {},
     "execution_count": 62
    }
   ],
   "source": [
    "D.shape"
   ]
  },
  {
   "cell_type": "code",
   "execution_count": 63,
   "metadata": {},
   "outputs": [
    {
     "output_type": "execute_result",
     "data": {
      "text/plain": [
       "array([[0.        , 0.94812721, 0.        , ..., 0.97923888, 0.95101094,\n",
       "        0.97605984],\n",
       "       [0.94812721, 0.        , 0.        , ..., 0.97483184, 0.94516444,\n",
       "        0.97719862],\n",
       "       [0.        , 0.        , 0.        , ..., 0.97192694, 0.        ,\n",
       "        0.        ],\n",
       "       ...,\n",
       "       [0.97923888, 0.97483184, 0.97192694, ..., 0.        , 0.95263612,\n",
       "        0.95853347],\n",
       "       [0.95101094, 0.94516444, 0.        , ..., 0.95263612, 0.        ,\n",
       "        0.93718396],\n",
       "       [0.97605984, 0.97719862, 0.        , ..., 0.95853347, 0.93718396,\n",
       "        0.        ]])"
      ]
     },
     "metadata": {},
     "execution_count": 63
    }
   ],
   "source": [
    "D"
   ]
  },
  {
   "cell_type": "code",
   "execution_count": null,
   "metadata": {},
   "outputs": [],
   "source": []
  }
 ]
}