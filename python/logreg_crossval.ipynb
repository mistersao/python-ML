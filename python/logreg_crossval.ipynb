{
 "metadata": {
  "language_info": {
   "codemirror_mode": {
    "name": "ipython",
    "version": 3
   },
   "file_extension": ".py",
   "mimetype": "text/x-python",
   "name": "python",
   "nbconvert_exporter": "python",
   "pygments_lexer": "ipython3",
   "version": "3.8.3-final"
  },
  "orig_nbformat": 2,
  "kernelspec": {
   "name": "python3",
   "display_name": "Python 3"
  }
 },
 "nbformat": 4,
 "nbformat_minor": 2,
 "cells": [
  {
   "cell_type": "code",
   "execution_count": 3,
   "metadata": {},
   "outputs": [
    {
     "output_type": "stream",
     "name": "stdout",
     "text": [
      "Accuracy: 0.95\n"
     ]
    }
   ],
   "source": [
    "from sklearn import datasets\n",
    "from sklearn import metrics\n",
    "from sklearn.linear_model import LogisticRegression\n",
    "\n",
    "\n",
    "cancer = datasets.load_breast_cancer()\n",
    "logistic_regression = LogisticRegression()\n",
    "\n",
    "model = logistic_regression.fit(cancer.data, cancer.target)\n",
    "\n",
    "print('Accuracy: {:.2f}'.format(model.score(cancer.data,cancer.target)))"
   ]
  },
  {
   "cell_type": "code",
   "execution_count": 8,
   "metadata": {},
   "outputs": [
    {
     "output_type": "stream",
     "name": "stdout",
     "text": [
      "Accuracy: 0.95\nROC_AUC: 0.94\nF1: 0.96\n"
     ]
    }
   ],
   "source": [
    "predictions = model.predict(cancer.data)\n",
    "\n",
    "print('Accuracy: {:.2f}'.format(metrics.accuracy_score(cancer.target,predictions)))\n",
    "print('ROC_AUC: {:.2f}'.format(metrics.roc_auc_score(cancer.target,predictions)))\n",
    "print('F1: {:.2f}'.format(metrics.f1_score(cancer.target,predictions)))"
   ]
  },
  {
   "cell_type": "code",
   "execution_count": 9,
   "metadata": {},
   "outputs": [],
   "source": [
    "from sklearn.model_selection import train_test_split"
   ]
  },
  {
   "cell_type": "code",
   "execution_count": 10,
   "metadata": {},
   "outputs": [
    {
     "output_type": "stream",
     "name": "stdout",
     "text": [
      "Train accuracy:0.95\nTest accuracy:0.94\n"
     ]
    }
   ],
   "source": [
    "x_train, x_test, y_train, y_test = train_test_split(\n",
    "    cancer.data, cancer.target,\n",
    "    test_size = 0.2, random_state = 12\n",
    ")\n",
    "model = logistic_regression.fit(x_train,y_train)\n",
    "\n",
    "print('Train accuracy:{:.2f}'.format(model.score(x_train,y_train)))\n",
    "print('Test accuracy:{:.2f}'.format(model.score(x_test,y_test)))"
   ]
  },
  {
   "cell_type": "code",
   "execution_count": 12,
   "metadata": {},
   "outputs": [
    {
     "output_type": "stream",
     "name": "stdout",
     "text": [
      "<class 'sklearn.linear_model._coordinate_descent.Lasso'>\nMSE:26.49\n\n<class 'sklearn.linear_model._ridge.Ridge'>\nMSE:14.95\n\n<class 'sklearn.linear_model._coordinate_descent.ElasticNet'>\nMSE:23.97\n\n"
     ]
    }
   ],
   "source": [
    "from sklearn.linear_model import Lasso, Ridge, ElasticNet\n",
    "\n",
    "boston = datasets.load_boston()\n",
    "\n",
    "lasso = Lasso()\n",
    "ridge = Ridge()\n",
    "elastic = ElasticNet()\n",
    "\n",
    "for model in [lasso, ridge, elastic]:\n",
    "    x_train, x_test, y_train, y_test = train_test_split(\n",
    "    boston.data, boston.target,\n",
    "    test_size = 0.2\n",
    "    )\n",
    "    model.fit(x_train,y_train)\n",
    "    \n",
    "    predictions = model.predict(x_test)\n",
    "    print(model.__class__)\n",
    "    print('MSE:{:.2f}\\n'.format(metrics.mean_squared_error(y_test,predictions)))"
   ]
  },
  {
   "cell_type": "code",
   "execution_count": 18,
   "metadata": {},
   "outputs": [
    {
     "output_type": "stream",
     "name": "stdout",
     "text": [
      "R2: 0.68\nR2: 0.68\n"
     ]
    }
   ],
   "source": [
    "print('R2: {:.2f}'.format(model.score(x_test, y_test)))\n",
    "print('R2: {:.2f}'.format(metrics.r2_score(y_test, predictions)))"
   ]
  },
  {
   "cell_type": "code",
   "execution_count": 19,
   "metadata": {},
   "outputs": [],
   "source": [
    "#Cross-validation"
   ]
  },
  {
   "cell_type": "code",
   "execution_count": 20,
   "metadata": {},
   "outputs": [
    {
     "output_type": "execute_result",
     "data": {
      "text/plain": [
       "dict_keys(['data', 'target', 'frame', 'target_names', 'DESCR', 'feature_names', 'filename'])"
      ]
     },
     "metadata": {},
     "execution_count": 20
    }
   ],
   "source": [
    "from sklearn.model_selection import KFold, cross_val_score\n",
    "\n",
    "iris = datasets.load_iris()\n",
    "iris.keys()"
   ]
  },
  {
   "cell_type": "code",
   "execution_count": 21,
   "metadata": {},
   "outputs": [
    {
     "output_type": "stream",
     "name": "stdout",
     "text": [
      ".. _iris_dataset:\n\nIris plants dataset\n--------------------\n\n**Data Set Characteristics:**\n\n    :Number of Instances: 150 (50 in each of three classes)\n    :Number of Attributes: 4 numeric, predictive attributes and the class\n    :Attribute Information:\n        - sepal length in cm\n        - sepal width in cm\n        - petal length in cm\n        - petal width in cm\n        - class:\n                - Iris-Setosa\n                - Iris-Versicolour\n                - Iris-Vi\n"
     ]
    }
   ],
   "source": [
    "print(iris.DESCR[:475])"
   ]
  },
  {
   "cell_type": "code",
   "execution_count": 24,
   "metadata": {},
   "outputs": [
    {
     "output_type": "stream",
     "name": "stdout",
     "text": [
      "Split 0 Score: 1.00\nSplit 1 Score: 1.00\nSplit 2 Score: 0.87\nSplit 3 Score: 0.93\nSplit 4 Score: 0.83\n"
     ]
    }
   ],
   "source": [
    "logistic_regression = LogisticRegression()\n",
    "cv = KFold(n_splits=5)\n",
    "\n",
    "for split_idx, (train_idx,test_idx) in enumerate(cv.split(iris.data)):\n",
    "    x_train, x_test = iris.data[train_idx], iris.data[test_idx]\n",
    "    y_train, y_test = iris.target[train_idx], iris.target[test_idx]\n",
    "\n",
    "    logistic_regression.fit(x_train, y_train)\n",
    "    score = logistic_regression.score(x_test,y_test)\n",
    "    print('Split {} Score: {:.2f}'.format(split_idx,score))"
   ]
  },
  {
   "cell_type": "code",
   "execution_count": 25,
   "metadata": {},
   "outputs": [
    {
     "output_type": "stream",
     "name": "stdout",
     "text": [
      "Cross val scre: [1.         1.         0.86666667 0.93333333 0.83333333]\nMean cross val score: 0.93\n"
     ]
    }
   ],
   "source": [
    "cv_score = cross_val_score(\n",
    "    logistic_regression, iris.data, iris.target,\n",
    "    scoring='accuracy', cv=cv\n",
    ")\n",
    "\n",
    "print('Cross val scre: {}'.format(cv_score))\n",
    "print('Mean cross val score: {:.2f}'.format(cv_score.mean()))"
   ]
  },
  {
   "cell_type": "code",
   "execution_count": null,
   "metadata": {},
   "outputs": [],
   "source": []
  }
 ]
}